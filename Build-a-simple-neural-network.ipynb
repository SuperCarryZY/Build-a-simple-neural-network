{
 "cells": [
  {
   "cell_type": "code",
   "execution_count": 800,
   "id": "c2f09c82",
   "metadata": {},
   "outputs": [],
   "source": [
    "import numpy as np "
   ]
  },
  {
   "cell_type": "code",
   "execution_count": 801,
   "id": "aea888d4",
   "metadata": {},
   "outputs": [],
   "source": [
    "def sig(x):\n",
    " return 1/(1 + np.exp(-x))"
   ]
  },
  {
   "cell_type": "code",
   "execution_count": 802,
   "id": "0e9f6eb6",
   "metadata": {},
   "outputs": [],
   "source": [
    "X=([0.2,0.11])"
   ]
  },
  {
   "cell_type": "code",
   "execution_count": 803,
   "id": "40627be5",
   "metadata": {},
   "outputs": [],
   "source": [
    "w1_1=np.array([1,2])"
   ]
  },
  {
   "cell_type": "code",
   "execution_count": 804,
   "id": "28e81f46",
   "metadata": {},
   "outputs": [],
   "source": [
    "b1_1=np.array([-1])"
   ]
  },
  {
   "cell_type": "code",
   "execution_count": 805,
   "id": "d356a790",
   "metadata": {},
   "outputs": [],
   "source": [
    "z1_1=np.dot(X,w1_1)+b1_1[0]"
   ]
  },
  {
   "cell_type": "code",
   "execution_count": 806,
   "id": "8121d22f",
   "metadata": {},
   "outputs": [],
   "source": [
    "a1_1=sig(z1_1)"
   ]
  },
  {
   "cell_type": "code",
   "execution_count": 807,
   "id": "8de81d4f",
   "metadata": {},
   "outputs": [
    {
     "data": {
      "text/plain": [
       "0.35893259366518293"
      ]
     },
     "execution_count": 807,
     "metadata": {},
     "output_type": "execute_result"
    }
   ],
   "source": [
    "a1_1"
   ]
  },
  {
   "cell_type": "code",
   "execution_count": 808,
   "id": "5e76dfe6",
   "metadata": {},
   "outputs": [],
   "source": [
    "w1_2=np.array([3,4])"
   ]
  },
  {
   "cell_type": "code",
   "execution_count": 809,
   "id": "0ff95afa",
   "metadata": {},
   "outputs": [],
   "source": [
    "b1_2=np.array([1])"
   ]
  },
  {
   "cell_type": "code",
   "execution_count": 810,
   "id": "a98d6ede",
   "metadata": {},
   "outputs": [],
   "source": [
    "z1_2=np.dot(X,w1_2)+b1_2[0]"
   ]
  },
  {
   "cell_type": "code",
   "execution_count": 811,
   "id": "7db18b29",
   "metadata": {},
   "outputs": [],
   "source": [
    "a1_2=sig(z1_2)"
   ]
  },
  {
   "cell_type": "code",
   "execution_count": 812,
   "id": "20e67c69",
   "metadata": {},
   "outputs": [
    {
     "data": {
      "text/plain": [
       "0.8849332679544502"
      ]
     },
     "execution_count": 812,
     "metadata": {},
     "output_type": "execute_result"
    }
   ],
   "source": [
    "a1_2"
   ]
  },
  {
   "cell_type": "code",
   "execution_count": 813,
   "id": "a96f5548",
   "metadata": {},
   "outputs": [],
   "source": [
    "w1_3=np.array([5,6])"
   ]
  },
  {
   "cell_type": "code",
   "execution_count": 814,
   "id": "ae21ab0b",
   "metadata": {},
   "outputs": [],
   "source": [
    "b1_3=np.array([2])"
   ]
  },
  {
   "cell_type": "code",
   "execution_count": 815,
   "id": "5086d6da",
   "metadata": {},
   "outputs": [],
   "source": [
    "z1_3=np.dot(X,w1_3)+b1_3[0]"
   ]
  },
  {
   "cell_type": "code",
   "execution_count": 816,
   "id": "f0c77985",
   "metadata": {},
   "outputs": [],
   "source": [
    "a1_3=sig(z1_3)"
   ]
  },
  {
   "cell_type": "code",
   "execution_count": 817,
   "id": "c29d7b20",
   "metadata": {},
   "outputs": [
    {
     "data": {
      "text/plain": [
       "0.9749130378465203"
      ]
     },
     "execution_count": 817,
     "metadata": {},
     "output_type": "execute_result"
    }
   ],
   "source": [
    "a1_3"
   ]
  },
  {
   "cell_type": "code",
   "execution_count": 818,
   "id": "f7b4c16d",
   "metadata": {},
   "outputs": [],
   "source": [
    "a1=np.array([a1_1,a1_2,a1_3])"
   ]
  },
  {
   "cell_type": "code",
   "execution_count": 819,
   "id": "60eb897f",
   "metadata": {},
   "outputs": [],
   "source": [
    "w2=np.array([7,8,9])"
   ]
  },
  {
   "cell_type": "code",
   "execution_count": 820,
   "id": "c27671f1",
   "metadata": {},
   "outputs": [],
   "source": [
    "b3=np.array([3])"
   ]
  },
  {
   "cell_type": "code",
   "execution_count": 821,
   "id": "0ec5e715",
   "metadata": {},
   "outputs": [],
   "source": [
    "z2=np.dot(a1,w2)+b3[0]"
   ]
  },
  {
   "cell_type": "code",
   "execution_count": 822,
   "id": "45290760",
   "metadata": {},
   "outputs": [
    {
     "data": {
      "text/plain": [
       "21.366211639910563"
      ]
     },
     "execution_count": 822,
     "metadata": {},
     "output_type": "execute_result"
    }
   ],
   "source": [
    "z2"
   ]
  },
  {
   "cell_type": "code",
   "execution_count": 823,
   "id": "2011a137",
   "metadata": {},
   "outputs": [],
   "source": [
    "a2=sig(z2)"
   ]
  },
  {
   "cell_type": "code",
   "execution_count": 824,
   "id": "fc4b00b5",
   "metadata": {},
   "outputs": [
    {
     "data": {
      "text/plain": [
       "0.9999999994742585"
      ]
     },
     "execution_count": 824,
     "metadata": {},
     "output_type": "execute_result"
    }
   ],
   "source": [
    "a2"
   ]
  },
  {
   "cell_type": "code",
   "execution_count": null,
   "id": "98398938",
   "metadata": {},
   "outputs": [],
   "source": []
  },
  {
   "cell_type": "code",
   "execution_count": 825,
   "id": "b1eb8f04",
   "metadata": {},
   "outputs": [],
   "source": [
    "def dense(X,w,b):\n",
    "    units=w.shape[0]\n",
    "    output=np.zeros(units)\n",
    "    for j in range(units):\n",
    "        z=np.dot(X,w[j])+b[j]\n",
    "        output[j]=sig(z)\n",
    "    return output"
   ]
  },
  {
   "cell_type": "code",
   "execution_count": 826,
   "id": "3f07c190",
   "metadata": {},
   "outputs": [],
   "source": [
    "def sequential(X):\n",
    "    a1=dense(X,w1,b1)\n",
    "    a2=dense(a1,w2,b2)\n",
    "    return a2"
   ]
  },
  {
   "cell_type": "code",
   "execution_count": 827,
   "id": "b7307c81",
   "metadata": {},
   "outputs": [],
   "source": [
    "w1=np.array([[1,2],\n",
    "           [3,4],\n",
    "           [5,6]])"
   ]
  },
  {
   "cell_type": "code",
   "execution_count": 828,
   "id": "11102e22",
   "metadata": {},
   "outputs": [],
   "source": [
    "b1=np.array([-1,1,2])"
   ]
  },
  {
   "cell_type": "code",
   "execution_count": 829,
   "id": "b1ca79ab",
   "metadata": {},
   "outputs": [],
   "source": [
    "w2=np.array([[7,8,9]])"
   ]
  },
  {
   "cell_type": "code",
   "execution_count": 830,
   "id": "b24d7454",
   "metadata": {},
   "outputs": [],
   "source": [
    "b2=np.array([3])"
   ]
  },
  {
   "cell_type": "code",
   "execution_count": 831,
   "id": "d3eb4652",
   "metadata": {},
   "outputs": [
    {
     "data": {
      "text/plain": [
       "array([1.])"
      ]
     },
     "execution_count": 831,
     "metadata": {},
     "output_type": "execute_result"
    }
   ],
   "source": [
    "sequential(X)"
   ]
  },
  {
   "cell_type": "code",
   "execution_count": null,
   "id": "66f61b45",
   "metadata": {},
   "outputs": [],
   "source": []
  },
  {
   "cell_type": "code",
   "execution_count": null,
   "id": "70047322",
   "metadata": {},
   "outputs": [],
   "source": []
  }
 ],
 "metadata": {
  "kernelspec": {
   "display_name": "Python 3 (ipykernel)",
   "language": "python",
   "name": "python3"
  },
  "language_info": {
   "codemirror_mode": {
    "name": "ipython",
    "version": 3
   },
   "file_extension": ".py",
   "mimetype": "text/x-python",
   "name": "python",
   "nbconvert_exporter": "python",
   "pygments_lexer": "ipython3",
   "version": "3.9.13"
  }
 },
 "nbformat": 4,
 "nbformat_minor": 5
}
